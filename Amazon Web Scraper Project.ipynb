{
 "cells": [
  {
   "cell_type": "code",
   "execution_count": 1,
   "id": "44a85614-2e3f-4c33-ab9e-25e0ce62dad7",
   "metadata": {},
   "outputs": [],
   "source": [
    "#import libraries\n",
    "\n",
    "from bs4 import BeautifulSoup\n",
    "import requests\n",
    "import smtplib\n",
    "import time\n",
    "import datetime"
   ]
  },
  {
   "cell_type": "code",
   "execution_count": 29,
   "id": "32baa712-dfc3-40a9-90dd-d5ee8cb537e1",
   "metadata": {},
   "outputs": [
    {
     "name": "stdout",
     "output_type": "stream",
     "text": [
      "\n",
      "                    Funny Got Data MIS Data Systems Business Analyst T-Shirt\n",
      "                   \n",
      "$16.99\n"
     ]
    }
   ],
   "source": [
    "#Connect to website\n",
    "\n",
    "URL = 'https://www.amazon.com/Funny-Data-Systems-Business-Analyst/dp/B07FNW9FGJ/ref=sr_1_2?crid=205QGALNYPCJC&dib=eyJ2IjoiMSJ9.EkdWY-JPkdMVH0ehyai8Wuq8GROSul2KvJEK0gRWGYlpquEI1RPoNcuLptd6YseivYu0WStxDCownUTObkN3M3pTB7f2KoLKqIUMQ8OQCK-F09ghkUBHOLts-hKfuNb_rRqi597_9BQ0DK6v9YhWgxE5E5jEal6FrVu8wUdeokSqYAOeCrAp8SIb7wy2Y8EFXRa1H1tNOsdAZY2Et-XoEJxAmRsW_dgOdL3UcEstsqLQ2orvnaHv1N0FJlp5QJb9YZ5qkxuUaaxqRpT18D43uCGBJzM2LWSDzCTN7yPXRSM.CcqPS6RK7PghQ9fUMFpq8n_7IsRZSmjw7EuAKVVDsGg&dib_tag=se&keywords=funny%2Bgot%2Bdata%2Bmis%2Bdata%2Bsystems%2Bbusiness%2Banalyst%2Bt-shirt&qid=1712515958&sprefix=funny%2Bgot%2Bdsta%2Bmis%2Caps%2C122&sr=8-2&customId=B0752XJYNL&customizationToken=MC_Assembly_1%23B0752XJYNL&th=1'\n",
    "\n",
    "headers = {\"User-Agent\": \"Mozilla/5.0 (Macintosh; Intel Mac OS X 10_15_7) AppleWebKit/605.1.15 (KHTML, like Gecko) Version/17.4.1 Safari/605.1.15\", \"Accept-Encoding\":\"gzip, deflate\", \"Accept\":\"text/html,application/xhtml+xml,application/xml;q=0.9,*/*;q=0.8\", \"DNT\":\"1\",\"Connection\":\"close\", \"Upgrade-Insecure-Requests\":\"1\"}\n",
    "\n",
    "page = requests.get(URL, headers=headers)\n",
    "\n",
    "soup1 = BeautifulSoup(page.content, \"html.parser\")\n",
    "\n",
    "soup2 = BeautifulSoup(soup1.prettify(), \"html.parser\")\n",
    "\n",
    "title = soup2.find(id='productTitle').get_text()\n",
    "\n",
    "price_symbol = soup2.find(class_='a-price-symbol').get_text(strip=True)\n",
    "price_whole = soup2.find(class_='a-price-whole').get_text(strip=True)\n",
    "price_fraction = soup2.find(class_='a-price-fraction').get_text(strip=True)\n",
    "price = f'{price_symbol}{price_whole}{price_fraction}'\n",
    "\n",
    "print(title)\n",
    "print(price)\n",
    "\n",
    "\n",
    "\n",
    "\n"
   ]
  },
  {
   "cell_type": "code",
   "execution_count": 30,
   "id": "ddbde652-94f0-41d5-8021-cf299741681a",
   "metadata": {},
   "outputs": [
    {
     "name": "stdout",
     "output_type": "stream",
     "text": [
      "Funny Got Data MIS Data Systems Business Analyst T-Shirt\n",
      "16.99\n"
     ]
    }
   ],
   "source": [
    "price = price.strip()[1:]\n",
    "title = title.strip()\n",
    "\n",
    "print(title)\n",
    "print(price)"
   ]
  },
  {
   "cell_type": "code",
   "execution_count": 36,
   "id": "04059f76-fa5c-46d3-a91f-bb61651f78da",
   "metadata": {},
   "outputs": [
    {
     "name": "stdout",
     "output_type": "stream",
     "text": [
      "2024-04-07\n"
     ]
    }
   ],
   "source": [
    "import datetime\n",
    "\n",
    "today = datetime.date.today()\n",
    "\n",
    "print(today)\n"
   ]
  },
  {
   "cell_type": "code",
   "execution_count": 39,
   "id": "99c859a8-e67c-444f-8ff4-1d95932eaa5e",
   "metadata": {
    "scrolled": true
   },
   "outputs": [],
   "source": [
    "import csv\n",
    "\n",
    "header = ['Title' , 'Price', 'Date']\n",
    "data = [title,price, today]\n",
    "\n",
    "#with open('AmazonWebScraperDataset.csv', 'w', newline='', encoding='UTF8') as f:\n",
    "    #writer = csv.writer(f)\n",
    "    #writer.writerow(header)\n",
    "    #writer.writerow(data)\n",
    "\n",
    "\n"
   ]
  },
  {
   "cell_type": "code",
   "execution_count": 45,
   "id": "76afd23b-6fe8-4507-bb22-7daa2af02346",
   "metadata": {},
   "outputs": [
    {
     "name": "stdout",
     "output_type": "stream",
     "text": [
      "                                               Title  Price        Date\n",
      "0  Funny Got Data MIS Data Systems Business Analy...  16.99  2024-04-07\n",
      "1  Funny Got Data MIS Data Systems Business Analy...  16.99  2024-04-07\n",
      "2  Funny Got Data MIS Data Systems Business Analy...  16.99  2024-04-07\n",
      "3  Funny Got Data MIS Data Systems Business Analy...  16.99  2024-04-07\n",
      "4  Funny Got Data MIS Data Systems Business Analy...  16.99  2024-04-07\n"
     ]
    }
   ],
   "source": [
    "import pandas as pd\n",
    "\n",
    "df = pd.read_csv(r'/Users/anabellap/Desktop/venv/AmazonWebScraperDataset.csv')\n",
    "\n",
    "print(df)"
   ]
  },
  {
   "cell_type": "code",
   "execution_count": 44,
   "id": "81cff1c1-bf03-4c26-9bf3-65059524e320",
   "metadata": {},
   "outputs": [],
   "source": [
    "#Now we are appending data to the csv\n",
    "\n",
    "\n",
    "with open('AmazonWebScraperDataset.csv', 'a+', newline='', encoding='UTF8') as f:\n",
    "    writer = csv.writer(f)\n",
    "    writer.writerow(data)"
   ]
  },
  {
   "cell_type": "code",
   "execution_count": 47,
   "id": "cc7ec969-6295-429a-987a-cfdb7d9c1caa",
   "metadata": {},
   "outputs": [],
   "source": [
    "\n",
    "def check_price():\n",
    "    \n",
    "    URL = 'https://www.amazon.com/Funny-Data-Systems-Business-Analyst/dp/B07FNW9FGJ/ref=sr_1_2?crid=205QGALNYPCJC&dib=eyJ2IjoiMSJ9.EkdWY-JPkdMVH0ehyai8Wuq8GROSul2KvJEK0gRWGYlpquEI1RPoNcuLptd6YseivYu0WStxDCownUTObkN3M3pTB7f2KoLKqIUMQ8OQCK-F09ghkUBHOLts-hKfuNb_rRqi597_9BQ0DK6v9YhWgxE5E5jEal6FrVu8wUdeokSqYAOeCrAp8SIb7wy2Y8EFXRa1H1tNOsdAZY2Et-XoEJxAmRsW_dgOdL3UcEstsqLQ2orvnaHv1N0FJlp5QJb9YZ5qkxuUaaxqRpT18D43uCGBJzM2LWSDzCTN7yPXRSM.CcqPS6RK7PghQ9fUMFpq8n_7IsRZSmjw7EuAKVVDsGg&dib_tag=se&keywords=funny%2Bgot%2Bdata%2Bmis%2Bdata%2Bsystems%2Bbusiness%2Banalyst%2Bt-shirt&qid=1712515958&sprefix=funny%2Bgot%2Bdsta%2Bmis%2Caps%2C122&sr=8-2&customId=B0752XJYNL&customizationToken=MC_Assembly_1%23B0752XJYNL&th=1'\n",
    "\n",
    "    headers = {\"User-Agent\": \"Mozilla/5.0 (Macintosh; Intel Mac OS X 10_15_7) AppleWebKit/605.1.15 (KHTML, like Gecko) Version/17.4.1 Safari/605.1.15\", \"Accept-Encoding\":\"gzip, deflate\", \"Accept\":\"text/html,application/xhtml+xml,application/xml;q=0.9,*/*;q=0.8\", \"DNT\":\"1\",\"Connection\":\"close\", \"Upgrade-Insecure-Requests\":\"1\"}\n",
    "\n",
    "    page = requests.get(URL, headers=headers)\n",
    "\n",
    "    soup1 = BeautifulSoup(page.content, \"html.parser\")\n",
    "\n",
    "    soup2 = BeautifulSoup(soup1.prettify(), \"html.parser\")\n",
    "\n",
    "    title = soup2.find(id='productTitle').get_text()\n",
    "\n",
    "    price_symbol = soup2.find(class_='a-price-symbol').get_text(strip=True)\n",
    "    price_whole = soup2.find(class_='a-price-whole').get_text(strip=True)\n",
    "    price_fraction = soup2.find(class_='a-price-fraction').get_text(strip=True)\n",
    "    price = f'{price_symbol}{price_whole}{price_fraction}'\n",
    "\n",
    "    price = price.strip()[1:]\n",
    "    title = title.strip()\n",
    "\n",
    "    import datetime\n",
    "    today = datetime.date.today()\n",
    "\n",
    "    import csv\n",
    "\n",
    "    header = ['Title' , 'Price', 'Date']\n",
    "    data = [title,price, today]\n",
    "\n",
    "    with open('AmazonWebScraperDataset.csv', 'a+', newline='', encoding='UTF8') as f:\n",
    "        writer = csv.writer(f)\n",
    "        writer.writerow(data)\n",
    "\n"
   ]
  },
  {
   "cell_type": "code",
   "execution_count": null,
   "id": "ad29ded9-6a52-4e27-91d8-6458e565b0f8",
   "metadata": {},
   "outputs": [],
   "source": [
    "while(True):\n",
    "    check_price()\n",
    "    time.sleep(86400)"
   ]
  },
  {
   "cell_type": "code",
   "execution_count": 49,
   "id": "6f3a07f8-75d4-4250-946f-e418eae84795",
   "metadata": {},
   "outputs": [
    {
     "name": "stdout",
     "output_type": "stream",
     "text": [
      "                                               Title  Price        Date\n",
      "0  Funny Got Data MIS Data Systems Business Analy...  16.99  2024-04-07\n",
      "1  Funny Got Data MIS Data Systems Business Analy...  16.99  2024-04-07\n",
      "2  Funny Got Data MIS Data Systems Business Analy...  16.99  2024-04-07\n",
      "3  Funny Got Data MIS Data Systems Business Analy...  16.99  2024-04-07\n",
      "4  Funny Got Data MIS Data Systems Business Analy...  16.99  2024-04-07\n",
      "5  Funny Got Data MIS Data Systems Business Analy...  16.99  2024-04-07\n",
      "6  Funny Got Data MIS Data Systems Business Analy...  16.99  2024-04-07\n",
      "7  Funny Got Data MIS Data Systems Business Analy...  16.99  2024-04-07\n",
      "8  Funny Got Data MIS Data Systems Business Analy...  16.99  2024-04-07\n",
      "9  Funny Got Data MIS Data Systems Business Analy...  16.99  2024-04-07\n"
     ]
    }
   ],
   "source": [
    "import pandas as pd\n",
    "\n",
    "df = pd.read_csv(r'/Users/anabellap/Desktop/venv/AmazonWebScraperDataset.csv')\n",
    "\n",
    "print(df)"
   ]
  },
  {
   "cell_type": "code",
   "execution_count": null,
   "id": "4cd69f2b-23df-4f1a-9099-6acaf753a76c",
   "metadata": {},
   "outputs": [],
   "source": [
    "def send_mail():\n",
    "    sercer=smtplib.SMTP_SSL('smtp.gmail.com',465)\n",
    "    server.ehlo()\n",
    "    #server.starttls()\n",
    "    server.ehlo()\n",
    "    server.login('5anabellap29@gmail.com','xxxxxxxxxxxxxx')\n",
    "\n",
    "    subject = 'The Shirt you want is below $15! Now is your chance to buy!\"\n",
    "    body = \"Anabella, This is the moment we have been waiting for. Now is your chance to pick up the shirt of your dreams. Don't mess it up! Link here: https://www.amazon.com/Funny-Data-Systems-Business-Analyst/dp/B07FNW9FGJ/ref=sr_1_2?crid=205QGALNYPCJC&dib=eyJ2IjoiMSJ9.EkdWY-JPkdMVH0ehyai8Wuq8GROSul2KvJEK0gRWGYlpquEI1RPoNcuLptd6YseivYu0WStxDCownUTObkN3M3pTB7f2KoLKqIUMQ8OQCK-F09ghkUBHOLts-hKfuNb_rRqi597_9BQ0DK6v9YhWgxE5E5jEal6FrVu8wUdeokSqYAOeCrAp8SIb7wy2Y8EFXRa1H1tNOsdAZY2Et-XoEJxAmRsW_dgOdL3UcEstsqLQ2orvnaHv1N0FJlp5QJb9YZ5qkxuUaaxqRpT18D43uCGBJzM2LWSDzCTN7yPXRSM.CcqPS6RK7PghQ9fUMFpq8n_7IsRZSmjw7EuAKVVDsGg&dib_tag=se&keywords=funny%2Bgot%2Bdata%2Bmis%2Bdata%2Bsystems%2Bbusiness%2Banalyst%2Bt-shirt&qid=1712515958&sprefix=funny%2Bgot%2Bdsta%2Bmis%2Caps%2C122&sr=8-2&customId=B0752XJYNL&customizationToken=MC_Assembly_1%23B0752XJYNL&th=1\"\n",
    "\n",
    "    msg = f\"Subject: {subject}\\n\\n{body}\"\n",
    "    \n",
    "    server.sendmail(\n",
    "        '5anabellap29@gmail.com',\n",
    "        msg\n",
    "     \n",
    "    )\n",
    "    "
   ]
  },
  {
   "cell_type": "code",
   "execution_count": null,
   "id": "959a7f42-58b6-4125-a063-79bb81af792e",
   "metadata": {},
   "outputs": [],
   "source": []
  },
  {
   "cell_type": "code",
   "execution_count": null,
   "id": "1f2d41ed-1c94-4e45-bc51-f51871e0e63d",
   "metadata": {},
   "outputs": [],
   "source": []
  },
  {
   "cell_type": "code",
   "execution_count": null,
   "id": "fb14a1c5-4511-4753-a4ec-1d791c79c74b",
   "metadata": {},
   "outputs": [],
   "source": []
  }
 ],
 "metadata": {
  "kernelspec": {
   "display_name": "Python 3 (ipykernel)",
   "language": "python",
   "name": "python3"
  },
  "language_info": {
   "codemirror_mode": {
    "name": "ipython",
    "version": 3
   },
   "file_extension": ".py",
   "mimetype": "text/x-python",
   "name": "python",
   "nbconvert_exporter": "python",
   "pygments_lexer": "ipython3",
   "version": "3.12.2"
  },
  "widgets": {
   "application/vnd.jupyter.widget-state+json": {
    "state": {},
    "version_major": 2,
    "version_minor": 0
   }
  }
 },
 "nbformat": 4,
 "nbformat_minor": 5
}
